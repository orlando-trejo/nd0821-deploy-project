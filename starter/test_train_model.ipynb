{
 "cells": [
  {
   "cell_type": "code",
   "execution_count": 16,
   "metadata": {},
   "outputs": [],
   "source": [
    "from ml.data import process_data\n",
    "from ml.model import train_model, compute_model_metrics, inference, sliced_metrics\n",
    "import pandas as pd\n",
    "from sklearn.model_selection import train_test_split\n"
   ]
  },
  {
   "cell_type": "code",
   "execution_count": 17,
   "metadata": {},
   "outputs": [],
   "source": [
    "data = pd.read_csv(\"../data/census.csv\")"
   ]
  },
  {
   "cell_type": "code",
   "execution_count": 18,
   "metadata": {},
   "outputs": [
    {
     "name": "stdout",
     "output_type": "stream",
     "text": [
      "Index(['age', 'workclass', 'fnlgt', 'education', 'education-num',\n",
      "       'marital-status', 'occupation', 'relationship', 'race', 'sex',\n",
      "       'capital-gain', 'capital-loss', 'hours-per-week', 'native-country',\n",
      "       'salary'],\n",
      "      dtype='object')\n"
     ]
    }
   ],
   "source": [
    "data.columns = data.columns.str.replace(\" \", \"\")\n",
    "print(data.columns)"
   ]
  },
  {
   "cell_type": "code",
   "execution_count": 19,
   "metadata": {},
   "outputs": [],
   "source": [
    "train, test = train_test_split(data, test_size=0.20, random_state=42)"
   ]
  },
  {
   "cell_type": "code",
   "execution_count": 20,
   "metadata": {},
   "outputs": [
    {
     "name": "stderr",
     "output_type": "stream",
     "text": [
      "/home/ot/miniconda3/envs/mlops_deploy/lib/python3.8/site-packages/sklearn/preprocessing/_encoders.py:975: FutureWarning: `sparse` was renamed to `sparse_output` in version 1.2 and will be removed in 1.4. `sparse_output` is ignored unless you leave `sparse` to its default value.\n",
      "  warnings.warn(\n"
     ]
    }
   ],
   "source": [
    "cat_features = [\n",
    "    \"workclass\",\n",
    "    \"education\",\n",
    "    \"marital-status\",\n",
    "    \"occupation\",\n",
    "    \"relationship\",\n",
    "    \"race\",\n",
    "    \"sex\",\n",
    "    \"native-country\",\n",
    "]\n",
    "\n",
    "# Process the data\n",
    "X_train, y_train, encoder, lb = process_data(\n",
    "    train, categorical_features=cat_features, label=\"salary\", training=True\n",
    ")\n",
    "\n",
    "# Process the test data\n",
    "X_test, y_test, _, _ = process_data(\n",
    "    test, categorical_features=cat_features, label=\"salary\", training=False, encoder=encoder, lb=lb\n",
    ")"
   ]
  },
  {
   "cell_type": "code",
   "execution_count": 31,
   "metadata": {},
   "outputs": [
    {
     "data": {
      "text/plain": [
       "Index(['age', 'workclass', 'fnlgt', 'education', 'education-num',\n",
       "       'marital-status', 'occupation', 'relationship', 'race', 'sex',\n",
       "       'capital-gain', 'capital-loss', 'hours-per-week', 'native-country',\n",
       "       'salary'],\n",
       "      dtype='object')"
      ]
     },
     "execution_count": 31,
     "metadata": {},
     "output_type": "execute_result"
    }
   ],
   "source": [
    "train.columns"
   ]
  },
  {
   "cell_type": "code",
   "execution_count": 32,
   "metadata": {},
   "outputs": [
    {
     "data": {
      "text/plain": [
       "(26048, 108)"
      ]
     },
     "execution_count": 32,
     "metadata": {},
     "output_type": "execute_result"
    }
   ],
   "source": [
    "X_train.shape"
   ]
  },
  {
   "cell_type": "code",
   "execution_count": 21,
   "metadata": {},
   "outputs": [],
   "source": [
    "model = train_model(X_train, y_train)\n"
   ]
  },
  {
   "cell_type": "code",
   "execution_count": 22,
   "metadata": {},
   "outputs": [],
   "source": [
    "preds = inference(model, X_test)\n",
    "precision, recall, fbeta = compute_model_metrics(y_test, preds)"
   ]
  },
  {
   "cell_type": "code",
   "execution_count": 23,
   "metadata": {},
   "outputs": [
    {
     "data": {
      "text/plain": [
       "0.7794585987261147"
      ]
     },
     "execution_count": 23,
     "metadata": {},
     "output_type": "execute_result"
    }
   ],
   "source": [
    "precision"
   ]
  },
  {
   "cell_type": "code",
   "execution_count": 24,
   "metadata": {},
   "outputs": [
    {
     "data": {
      "text/plain": [
       "0.6231699554423934"
      ]
     },
     "execution_count": 24,
     "metadata": {},
     "output_type": "execute_result"
    }
   ],
   "source": [
    "recall"
   ]
  },
  {
   "cell_type": "code",
   "execution_count": 25,
   "metadata": {},
   "outputs": [
    {
     "data": {
      "text/plain": [
       "0.6926070038910507"
      ]
     },
     "execution_count": 25,
     "metadata": {},
     "output_type": "execute_result"
    }
   ],
   "source": [
    "fbeta"
   ]
  },
  {
   "cell_type": "code",
   "execution_count": 26,
   "metadata": {},
   "outputs": [],
   "source": [
    "all_slice_metrics = sliced_metrics(model, X_test, y_test, test, cat_features)"
   ]
  },
  {
   "cell_type": "code",
   "execution_count": 27,
   "metadata": {},
   "outputs": [
    {
     "data": {
      "text/plain": [
       "{'workclass': {' Private': {'precision': 0.7923076923076923,\n",
       "   'recall': 0.6173826173826173,\n",
       "   'fbeta': 0.6939921392476136,\n",
       "   'samples': 4578},\n",
       "  ' State-gov': {'precision': 0.75,\n",
       "   'recall': 0.6986301369863014,\n",
       "   'fbeta': 0.7234042553191489,\n",
       "   'samples': 254},\n",
       "  ' Self-emp-not-inc': {'precision': 0.7474747474747475,\n",
       "   'recall': 0.4713375796178344,\n",
       "   'fbeta': 0.5781250000000001,\n",
       "   'samples': 498},\n",
       "  ' Self-emp-inc': {'precision': 0.7622950819672131,\n",
       "   'recall': 0.788135593220339,\n",
       "   'fbeta': 0.775,\n",
       "   'samples': 212},\n",
       "  ' Federal-gov': {'precision': 0.746268656716418,\n",
       "   'recall': 0.7142857142857143,\n",
       "   'fbeta': 0.7299270072992701,\n",
       "   'samples': 191},\n",
       "  ' Local-gov': {'precision': 0.7623762376237624,\n",
       "   'recall': 0.7,\n",
       "   'fbeta': 0.7298578199052131,\n",
       "   'samples': 387},\n",
       "  ' ?': {'precision': 0.8421052631578947,\n",
       "   'recall': 0.38095238095238093,\n",
       "   'fbeta': 0.5245901639344263,\n",
       "   'samples': 389},\n",
       "  ' Without-pay': {'precision': 1.0,\n",
       "   'recall': 1.0,\n",
       "   'fbeta': 1.0,\n",
       "   'samples': 4}},\n",
       " 'education': {' Some-college': {'precision': 0.725,\n",
       "   'recall': 0.5234657039711191,\n",
       "   'fbeta': 0.6079664570230608,\n",
       "   'samples': 1485},\n",
       "  ' HS-grad': {'precision': 0.7954545454545454,\n",
       "   'recall': 0.30434782608695654,\n",
       "   'fbeta': 0.44025157232704404,\n",
       "   'samples': 2085},\n",
       "  ' Bachelors': {'precision': 0.7613882863340564,\n",
       "   'recall': 0.78,\n",
       "   'fbeta': 0.7705817782656422,\n",
       "   'samples': 1053},\n",
       "  ' Masters': {'precision': 0.827906976744186,\n",
       "   'recall': 0.8599033816425121,\n",
       "   'fbeta': 0.8436018957345972,\n",
       "   'samples': 369},\n",
       "  ' Assoc-acdm': {'precision': 0.7297297297297297,\n",
       "   'recall': 0.574468085106383,\n",
       "   'fbeta': 0.6428571428571429,\n",
       "   'samples': 198},\n",
       "  ' 7th-8th': {'precision': 1.0, 'recall': 0.0, 'fbeta': 0.0, 'samples': 141},\n",
       "  ' 11th': {'precision': 1.0,\n",
       "   'recall': 0.2727272727272727,\n",
       "   'fbeta': 0.42857142857142855,\n",
       "   'samples': 225},\n",
       "  ' Assoc-voc': {'precision': 0.723404255319149,\n",
       "   'recall': 0.5396825396825397,\n",
       "   'fbeta': 0.6181818181818182,\n",
       "   'samples': 273},\n",
       "  ' Prof-school': {'precision': 0.8387096774193549,\n",
       "   'recall': 0.9285714285714286,\n",
       "   'fbeta': 0.8813559322033899,\n",
       "   'samples': 116},\n",
       "  ' 9th': {'precision': 1.0,\n",
       "   'recall': 0.3333333333333333,\n",
       "   'fbeta': 0.5,\n",
       "   'samples': 115},\n",
       "  ' 5th-6th': {'precision': 1.0,\n",
       "   'recall': 0.5,\n",
       "   'fbeta': 0.6666666666666666,\n",
       "   'samples': 62},\n",
       "  ' 10th': {'precision': 0.5,\n",
       "   'recall': 0.08333333333333333,\n",
       "   'fbeta': 0.14285714285714285,\n",
       "   'samples': 183},\n",
       "  ' Doctorate': {'precision': 0.8524590163934426,\n",
       "   'recall': 0.9122807017543859,\n",
       "   'fbeta': 0.8813559322033898,\n",
       "   'samples': 77},\n",
       "  ' 12th': {'precision': 1.0,\n",
       "   'recall': 0.4,\n",
       "   'fbeta': 0.5714285714285715,\n",
       "   'samples': 98},\n",
       "  ' 1st-4th': {'precision': 1.0, 'recall': 1.0, 'fbeta': 1.0, 'samples': 23},\n",
       "  ' Preschool': {'precision': 1.0,\n",
       "   'recall': 1.0,\n",
       "   'fbeta': 1.0,\n",
       "   'samples': 10}},\n",
       " 'marital-status': {' Divorced': {'precision': 0.9166666666666666,\n",
       "   'recall': 0.32038834951456313,\n",
       "   'fbeta': 0.4748201438848922,\n",
       "   'samples': 920},\n",
       "  ' Married-civ-spouse': {'precision': 0.7677198975234842,\n",
       "   'recall': 0.6831306990881459,\n",
       "   'fbeta': 0.7229593888218737,\n",
       "   'samples': 2950},\n",
       "  ' Never-married': {'precision': 0.9459459459459459,\n",
       "   'recall': 0.33980582524271846,\n",
       "   'fbeta': 0.5,\n",
       "   'samples': 2126},\n",
       "  ' Separated': {'precision': 1.0,\n",
       "   'recall': 0.42105263157894735,\n",
       "   'fbeta': 0.5925925925925926,\n",
       "   'samples': 209},\n",
       "  ' Widowed': {'precision': 1.0,\n",
       "   'recall': 0.10526315789473684,\n",
       "   'fbeta': 0.1904761904761905,\n",
       "   'samples': 208},\n",
       "  ' Married-spouse-absent': {'precision': 1.0,\n",
       "   'recall': 0.25,\n",
       "   'fbeta': 0.4,\n",
       "   'samples': 96},\n",
       "  ' Married-AF-spouse': {'precision': 1.0,\n",
       "   'recall': 0.0,\n",
       "   'fbeta': 0.0,\n",
       "   'samples': 4}},\n",
       " 'occupation': {' Adm-clerical': {'precision': 0.6818181818181818,\n",
       "   'recall': 0.46875,\n",
       "   'fbeta': 0.5555555555555556,\n",
       "   'samples': 726},\n",
       "  ' Exec-managerial': {'precision': 0.8077922077922078,\n",
       "   'recall': 0.783375314861461,\n",
       "   'fbeta': 0.7953964194373402,\n",
       "   'samples': 838},\n",
       "  ' Machine-op-inspct': {'precision': 0.7222222222222222,\n",
       "   'recall': 0.2765957446808511,\n",
       "   'fbeta': 0.4,\n",
       "   'samples': 378},\n",
       "  ' Craft-repair': {'precision': 0.8170731707317073,\n",
       "   'recall': 0.3701657458563536,\n",
       "   'fbeta': 0.5095057034220533,\n",
       "   'samples': 821},\n",
       "  ' Prof-specialty': {'precision': 0.7830423940149626,\n",
       "   'recall': 0.8010204081632653,\n",
       "   'fbeta': 0.7919293820933165,\n",
       "   'samples': 828},\n",
       "  ' Sales': {'precision': 0.7455621301775148,\n",
       "   'recall': 0.65625,\n",
       "   'fbeta': 0.6980609418282548,\n",
       "   'samples': 729},\n",
       "  ' Handlers-cleaners': {'precision': 0.5714285714285714,\n",
       "   'recall': 0.3333333333333333,\n",
       "   'fbeta': 0.4210526315789474,\n",
       "   'samples': 273},\n",
       "  ' Other-service': {'precision': 1.0,\n",
       "   'recall': 0.15384615384615385,\n",
       "   'fbeta': 0.2666666666666667,\n",
       "   'samples': 667},\n",
       "  ' Protective-serv': {'precision': 0.7857142857142857,\n",
       "   'recall': 0.5238095238095238,\n",
       "   'fbeta': 0.6285714285714286,\n",
       "   'samples': 136},\n",
       "  ' Priv-house-serv': {'precision': 1.0,\n",
       "   'recall': 1.0,\n",
       "   'fbeta': 1.0,\n",
       "   'samples': 26},\n",
       "  ' Transport-moving': {'precision': 0.6785714285714286,\n",
       "   'recall': 0.296875,\n",
       "   'fbeta': 0.41304347826086957,\n",
       "   'samples': 317},\n",
       "  ' ?': {'precision': 0.8421052631578947,\n",
       "   'recall': 0.38095238095238093,\n",
       "   'fbeta': 0.5245901639344263,\n",
       "   'samples': 389},\n",
       "  ' Farming-fishing': {'precision': 1.0,\n",
       "   'recall': 0.14285714285714285,\n",
       "   'fbeta': 0.25,\n",
       "   'samples': 193},\n",
       "  ' Tech-support': {'precision': 0.75,\n",
       "   'recall': 0.6470588235294118,\n",
       "   'fbeta': 0.6947368421052633,\n",
       "   'samples': 189},\n",
       "  ' Armed-Forces': {'precision': 1.0,\n",
       "   'recall': 1.0,\n",
       "   'fbeta': 1.0,\n",
       "   'samples': 3}},\n",
       " 'relationship': {' Not-in-family': {'precision': 0.9285714285714286,\n",
       "   'recall': 0.34574468085106386,\n",
       "   'fbeta': 0.5038759689922481,\n",
       "   'samples': 1702},\n",
       "  ' Wife': {'precision': 0.7388059701492538,\n",
       "   'recall': 0.6923076923076923,\n",
       "   'fbeta': 0.7148014440433212,\n",
       "   'samples': 322},\n",
       "  ' Husband': {'precision': 0.7712355212355212,\n",
       "   'recall': 0.6829059829059829,\n",
       "   'fbeta': 0.7243880326382593,\n",
       "   'samples': 2590},\n",
       "  ' Unmarried': {'precision': 1.0,\n",
       "   'recall': 0.2222222222222222,\n",
       "   'fbeta': 0.3636363636363636,\n",
       "   'samples': 702},\n",
       "  ' Own-child': {'precision': 1.0,\n",
       "   'recall': 0.17647058823529413,\n",
       "   'fbeta': 0.3,\n",
       "   'samples': 1019},\n",
       "  ' Other-relative': {'precision': 1.0,\n",
       "   'recall': 0.375,\n",
       "   'fbeta': 0.5454545454545454,\n",
       "   'samples': 178}},\n",
       " 'race': {' White': {'precision': 0.7814977973568282,\n",
       "   'recall': 0.6211484593837535,\n",
       "   'fbeta': 0.6921576277799454,\n",
       "   'samples': 5595},\n",
       "  ' Black': {'precision': 0.7254901960784313,\n",
       "   'recall': 0.5692307692307692,\n",
       "   'fbeta': 0.6379310344827587,\n",
       "   'samples': 599},\n",
       "  ' Other': {'precision': 0.8,\n",
       "   'recall': 0.6666666666666666,\n",
       "   'fbeta': 0.7272727272727272,\n",
       "   'samples': 55},\n",
       "  ' Asian-Pac-Islander': {'precision': 0.7796610169491526,\n",
       "   'recall': 0.7419354838709677,\n",
       "   'fbeta': 0.7603305785123968,\n",
       "   'samples': 193},\n",
       "  ' Amer-Indian-Eskimo': {'precision': 0.8333333333333334,\n",
       "   'recall': 0.5,\n",
       "   'fbeta': 0.625,\n",
       "   'samples': 71}},\n",
       " 'sex': {' Female': {'precision': 0.7662337662337663,\n",
       "   'recall': 0.5064377682403434,\n",
       "   'fbeta': 0.6098191214470284,\n",
       "   'samples': 2126},\n",
       "  ' Male': {'precision': 0.7813067150635209,\n",
       "   'recall': 0.6434977578475336,\n",
       "   'fbeta': 0.7057377049180329,\n",
       "   'samples': 4387}},\n",
       " 'native-country': {' United-States': {'precision': 0.7780725022104332,\n",
       "   'recall': 0.6132404181184669,\n",
       "   'fbeta': 0.6858924395946998,\n",
       "   'samples': 5870},\n",
       "  ' Mexico': {'precision': 1.0,\n",
       "   'recall': 0.3333333333333333,\n",
       "   'fbeta': 0.5,\n",
       "   'samples': 114},\n",
       "  ' Puerto-Rico': {'precision': 0.8333333333333334,\n",
       "   'recall': 0.8333333333333334,\n",
       "   'fbeta': 0.8333333333333334,\n",
       "   'samples': 22},\n",
       "  ' El-Salvador': {'precision': 1.0,\n",
       "   'recall': 1.0,\n",
       "   'fbeta': 1.0,\n",
       "   'samples': 20},\n",
       "  ' ?': {'precision': 0.8076923076923077,\n",
       "   'recall': 0.6774193548387096,\n",
       "   'fbeta': 0.7368421052631579,\n",
       "   'samples': 125},\n",
       "  ' Columbia': {'precision': 1.0, 'recall': 1.0, 'fbeta': 1.0, 'samples': 6},\n",
       "  ' Poland': {'precision': 0.5, 'recall': 0.5, 'fbeta': 0.5, 'samples': 14},\n",
       "  ' Cambodia': {'precision': 1.0, 'recall': 1.0, 'fbeta': 1.0, 'samples': 3},\n",
       "  ' Germany': {'precision': 0.7857142857142857,\n",
       "   'recall': 0.8461538461538461,\n",
       "   'fbeta': 0.8148148148148148,\n",
       "   'samples': 32},\n",
       "  ' Philippines': {'precision': 1.0,\n",
       "   'recall': 0.6875,\n",
       "   'fbeta': 0.8148148148148148,\n",
       "   'samples': 35},\n",
       "  ' Canada': {'precision': 0.8571428571428571,\n",
       "   'recall': 0.75,\n",
       "   'fbeta': 0.7999999999999999,\n",
       "   'samples': 22},\n",
       "  ' Ecuador': {'precision': 1.0,\n",
       "   'recall': 0.5,\n",
       "   'fbeta': 0.6666666666666666,\n",
       "   'samples': 5},\n",
       "  ' Italy': {'precision': 0.75, 'recall': 0.75, 'fbeta': 0.75, 'samples': 14},\n",
       "  ' Cuba': {'precision': 0.8,\n",
       "   'recall': 0.8,\n",
       "   'fbeta': 0.8000000000000002,\n",
       "   'samples': 19},\n",
       "  ' Iran': {'precision': 0.5,\n",
       "   'recall': 0.4,\n",
       "   'fbeta': 0.4444444444444445,\n",
       "   'samples': 12},\n",
       "  ' Jamaica': {'precision': 0.0, 'recall': 1.0, 'fbeta': 0.0, 'samples': 13},\n",
       "  ' Haiti': {'precision': 1.0, 'recall': 1.0, 'fbeta': 1.0, 'samples': 6},\n",
       "  ' South': {'precision': 0.3333333333333333,\n",
       "   'recall': 0.5,\n",
       "   'fbeta': 0.4,\n",
       "   'samples': 13},\n",
       "  ' Taiwan': {'precision': 0.8,\n",
       "   'recall': 1.0,\n",
       "   'fbeta': 0.888888888888889,\n",
       "   'samples': 11},\n",
       "  ' Dominican-Republic': {'precision': 1.0,\n",
       "   'recall': 1.0,\n",
       "   'fbeta': 1.0,\n",
       "   'samples': 8},\n",
       "  ' Ireland': {'precision': 1.0, 'recall': 1.0, 'fbeta': 1.0, 'samples': 5},\n",
       "  ' Japan': {'precision': 0.75, 'recall': 0.75, 'fbeta': 0.75, 'samples': 11},\n",
       "  ' Scotland': {'precision': 1.0, 'recall': 1.0, 'fbeta': 1.0, 'samples': 3},\n",
       "  ' India': {'precision': 0.7,\n",
       "   'recall': 0.875,\n",
       "   'fbeta': 0.7777777777777777,\n",
       "   'samples': 21},\n",
       "  ' Trinadad&Tobago': {'precision': 1.0,\n",
       "   'recall': 1.0,\n",
       "   'fbeta': 1.0,\n",
       "   'samples': 3},\n",
       "  ' Hungary': {'precision': 1.0,\n",
       "   'recall': 0.5,\n",
       "   'fbeta': 0.6666666666666666,\n",
       "   'samples': 3},\n",
       "  ' England': {'precision': 0.75,\n",
       "   'recall': 0.75,\n",
       "   'fbeta': 0.75,\n",
       "   'samples': 14},\n",
       "  ' Laos': {'precision': 1.0, 'recall': 0.0, 'fbeta': 0.0, 'samples': 4},\n",
       "  ' Hong': {'precision': 0.5,\n",
       "   'recall': 1.0,\n",
       "   'fbeta': 0.6666666666666666,\n",
       "   'samples': 8},\n",
       "  ' Greece': {'precision': 1.0,\n",
       "   'recall': 0.5,\n",
       "   'fbeta': 0.6666666666666666,\n",
       "   'samples': 7},\n",
       "  ' Portugal': {'precision': 1.0, 'recall': 1.0, 'fbeta': 1.0, 'samples': 6},\n",
       "  ' Guatemala': {'precision': 1.0, 'recall': 1.0, 'fbeta': 1.0, 'samples': 13},\n",
       "  ' China': {'precision': 0.8888888888888888,\n",
       "   'recall': 1.0,\n",
       "   'fbeta': 0.9411764705882353,\n",
       "   'samples': 18},\n",
       "  ' France': {'precision': 1.0, 'recall': 1.0, 'fbeta': 1.0, 'samples': 5},\n",
       "  ' Nicaragua': {'precision': 1.0, 'recall': 1.0, 'fbeta': 1.0, 'samples': 7},\n",
       "  ' Vietnam': {'precision': 1.0, 'recall': 1.0, 'fbeta': 1.0, 'samples': 5},\n",
       "  ' Thailand': {'precision': 1.0, 'recall': 1.0, 'fbeta': 1.0, 'samples': 5},\n",
       "  ' Peru': {'precision': 1.0, 'recall': 0.0, 'fbeta': 0.0, 'samples': 5},\n",
       "  ' Honduras': {'precision': 1.0, 'recall': 1.0, 'fbeta': 1.0, 'samples': 4},\n",
       "  ' Yugoslavia': {'precision': 1.0,\n",
       "   'recall': 1.0,\n",
       "   'fbeta': 1.0,\n",
       "   'samples': 2}}}"
      ]
     },
     "execution_count": 27,
     "metadata": {},
     "output_type": "execute_result"
    }
   ],
   "source": [
    "all_slice_metrics"
   ]
  },
  {
   "cell_type": "code",
   "execution_count": null,
   "metadata": {},
   "outputs": [],
   "source": []
  }
 ],
 "metadata": {
  "kernelspec": {
   "display_name": "mlops_deploy",
   "language": "python",
   "name": "python3"
  },
  "language_info": {
   "codemirror_mode": {
    "name": "ipython",
    "version": 3
   },
   "file_extension": ".py",
   "mimetype": "text/x-python",
   "name": "python",
   "nbconvert_exporter": "python",
   "pygments_lexer": "ipython3",
   "version": "3.8.20"
  }
 },
 "nbformat": 4,
 "nbformat_minor": 2
}
